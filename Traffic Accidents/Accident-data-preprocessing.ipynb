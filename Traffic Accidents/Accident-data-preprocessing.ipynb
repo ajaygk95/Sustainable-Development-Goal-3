{
  "nbformat": 4,
  "nbformat_minor": 0,
  "metadata": {
    "colab": {
      "name": "FARS.ipynb",
      "provenance": [],
      "collapsed_sections": [
        "EJM4V7jrYii9",
        "YkXw-c8OZkTb"
      ]
    },
    "kernelspec": {
      "name": "python3",
      "display_name": "Python 3"
    }
  },
  "cells": [
    {
      "cell_type": "code",
      "metadata": {
        "id": "1Gv6AYwhK4r_",
        "colab_type": "code",
        "colab": {}
      },
      "source": [
        "from google.colab import drive\n",
        "drive.mount('/content/drive')"
      ],
      "execution_count": 0,
      "outputs": []
    },
    {
      "cell_type": "code",
      "metadata": {
        "id": "kXdnqNKELD_M",
        "colab_type": "code",
        "colab": {}
      },
      "source": [
        "import pandas as pd\n",
        "import datetime\n",
        "import glob\n",
        "from sklearn.preprocessing import StandardScaler\n",
        "from sklearn.decomposition import PCA\n",
        "import matplotlib.pyplot as plt\n",
        "import numpy as np"
      ],
      "execution_count": 0,
      "outputs": []
    },
    {
      "cell_type": "markdown",
      "metadata": {
        "id": "3CFHA2YjTBu6",
        "colab_type": "text"
      },
      "source": [
        "### ACCIDENTS/AUX CSV FILE"
      ]
    },
    {
      "cell_type": "code",
      "metadata": {
        "id": "1T6Vjph-LhDc",
        "colab_type": "code",
        "colab": {}
      },
      "source": [
        "columnCount = {}\n",
        "df = []\n",
        "for year in range(2000, 2019):\n",
        "  try:\n",
        "    datf = pd.read_csv('/content/drive/My Drive/Big-Data/Project/FARS/FARS' + str(year) + 'NationalCSV/ACCIDENT.csv', index_col=0)\n",
        "    print(datf.shape)\n",
        "    for col in datf.columns:\n",
        "      if col in columnCount:\n",
        "        columnCount[col] += 1\n",
        "      else:\n",
        "        columnCount[col] = 1\n",
        "    df.append(datf)\n",
        "  except:\n",
        "    print(year)"
      ],
      "execution_count": 0,
      "outputs": []
    },
    {
      "cell_type": "code",
      "metadata": {
        "id": "NhU81VgFMomT",
        "colab_type": "code",
        "colab": {}
      },
      "source": [
        "keep = ['ARR_HOUR','ARR_MIN', 'CF1','CF2','CF3', 'ST_CASE', 'CITY','HOUR', 'MINUTE',\n",
        " 'COUNTY','DAY','DAY_WEEK','DRUNK_DR','FATALS','HARM_EV','HOSP_HR','MONTH','PROFILE',\n",
        " 'PEDS','PERSONS','REL_ROAD','ROUTE','SCH_BUS','STATE','WEATHER','YEAR', 'VE_TOTAL']"
      ],
      "execution_count": 0,
      "outputs": []
    },
    {
      "cell_type": "code",
      "metadata": {
        "id": "9FVADP0-MiCF",
        "colab_type": "code",
        "colab": {}
      },
      "source": [
        "overalldf = pd.DataFrame(pd.concat(df))"
      ],
      "execution_count": 0,
      "outputs": []
    },
    {
      "cell_type": "code",
      "metadata": {
        "id": "OtotdwHWQCUU",
        "colab_type": "code",
        "colab": {}
      },
      "source": [
        "overalldf_ = overalldf[keep] "
      ],
      "execution_count": 0,
      "outputs": []
    },
    {
      "cell_type": "code",
      "metadata": {
        "id": "pz1qJJxORgj_",
        "colab_type": "code",
        "colab": {}
      },
      "source": [
        "overalldf_.to_csv('/content/drive/My Drive/Big-Data/Project/FARS/Processed/accidents_merged_cleaned.csv')"
      ],
      "execution_count": 0,
      "outputs": []
    },
    {
      "cell_type": "code",
      "metadata": {
        "id": "E8wwNWFWTydD",
        "colab_type": "code",
        "colab": {}
      },
      "source": [
        "aux_df = pd.DataFrame(pd.concat(df))"
      ],
      "execution_count": 0,
      "outputs": []
    },
    {
      "cell_type": "code",
      "metadata": {
        "id": "vLQI8mjFWGdt",
        "colab_type": "code",
        "colab": {}
      },
      "source": [
        "keep = ['YEAR', 'ST_CASE','A_CRAINJ',\n",
        "'A_REGION','A_RU','A_INTER','A_RELRD','A_INTSEC','A_ROADFC','A_JUNC','A_MANCOL','A_RD','A_TOD','A_DOW',\n",
        "'A_HR','A_CT','A_LT','A_MC','A_SPCRA','A_PED','A_PEDAL','A_ROLL','A_POLPUR',\n",
        "'A_POSBAC','A_D15_19','A_D16_19','A_D15_20','A_D16_20','A_D65PLS','A_D21_24','A_D16_24','A_DIST','A_DROWSY','BIA']"
      ],
      "execution_count": 0,
      "outputs": []
    },
    {
      "cell_type": "code",
      "metadata": {
        "colab_type": "code",
        "id": "joX5ixnTXspd",
        "colab": {}
      },
      "source": [
        "aux_df.to_csv('/content/drive/My Drive/Big-Data/Project/FARS/Processed/accidents_aux_merged.csv')"
      ],
      "execution_count": 0,
      "outputs": []
    },
    {
      "cell_type": "code",
      "metadata": {
        "colab_type": "code",
        "id": "QPLsdKiSXspg",
        "colab": {}
      },
      "source": [
        "aux_df = aux_df[keep] "
      ],
      "execution_count": 0,
      "outputs": []
    },
    {
      "cell_type": "code",
      "metadata": {
        "colab_type": "code",
        "id": "T4UyR2XmXspm",
        "colab": {}
      },
      "source": [
        "aux_df.to_csv('/content/drive/My Drive/Big-Data/Project/FARS/Processed/accidents_aux_merged_cleaned.csv')"
      ],
      "execution_count": 0,
      "outputs": []
    },
    {
      "cell_type": "code",
      "metadata": {
        "colab_type": "code",
        "id": "6VVe_S8BXspo",
        "colab": {}
      },
      "source": [
        "aux_df['ID'] = aux_df.apply(lambda x: str(int(x['ST_CASE'])) + str(int(x['YEAR'])), axis=1)"
      ],
      "execution_count": 0,
      "outputs": []
    },
    {
      "cell_type": "code",
      "metadata": {
        "id": "RM5ftwAcYHyK",
        "colab_type": "code",
        "colab": {}
      },
      "source": [
        "del aux_df['YEAR']\n",
        "del aux_df['ST_CASE']"
      ],
      "execution_count": 0,
      "outputs": []
    },
    {
      "cell_type": "code",
      "metadata": {
        "id": "IWdxoxFS5hso",
        "colab_type": "code",
        "colab": {}
      },
      "source": [
        "aux_df = pd.read_csv('/content/drive/My Drive/Big-Data/Project/FARS/Processed/accidents_aux_merged_cleaned.csv')"
      ],
      "execution_count": 0,
      "outputs": []
    },
    {
      "cell_type": "markdown",
      "metadata": {
        "id": "67KTzYt65q5c",
        "colab_type": "text"
      },
      "source": [
        "## PERSON"
      ]
    },
    {
      "cell_type": "code",
      "metadata": {
        "id": "4sa2EnsYD_QP",
        "colab_type": "code",
        "colab": {}
      },
      "source": [
        "columnCount = {}\n",
        "df = []\n",
        "for year in range(2000, 2019):\n",
        "  try:\n",
        "    datf = pd.read_csv('/content/drive/My Drive/Big-Data/Project/FARS/FARS' + str(year) + 'NationalCSV/PERSON.csv', encoding = 'unicode_escape')\n",
        "    print(datf.shape)\n",
        "    datf['ID'] = datf.apply(lambda x: str(int(x['ST_CASE'])) + str(year), axis=1)\n",
        "    for col in datf.columns:\n",
        "      if col in columnCount:\n",
        "        columnCount[col] += 1\n",
        "      else:\n",
        "        columnCount[col] = 1\n",
        "    df.append(datf)\n",
        "  except:\n",
        "    print(year)"
      ],
      "execution_count": 0,
      "outputs": []
    },
    {
      "cell_type": "code",
      "metadata": {
        "id": "_LbwFzeJGgpR",
        "colab_type": "code",
        "colab": {}
      },
      "source": [
        "features = list(concatdf.columns)\n",
        "features.remove('FATALS')\n",
        "features.remove('LOCATION')\n",
        "features.remove('SEVERITY')\n",
        "# Separating out the features\n",
        "x = concatdf.loc[:, features].values\n",
        "# Separating out the target\n",
        "y = concatdf.loc[:,['SEVERITY']].values\n",
        "# Standardizing the features\n",
        "x_ = StandardScaler().fit_transform(x)\n",
        "\n",
        "concatdf_mod = concatdf[features]"
      ],
      "execution_count": 0,
      "outputs": []
    },
    {
      "cell_type": "code",
      "metadata": {
        "id": "yyGqJ6rtH9Hv",
        "colab_type": "code",
        "colab": {}
      },
      "source": [
        "pca = PCA(n_components=57)\n",
        "principalComponents = pca.fit_transform(x_)\n",
        "principalDf = pd.DataFrame(data = principalComponents)\n",
        "finalDf = pd.concat([principalDf, concatdf[['SEVERITY']]], axis = 1)"
      ],
      "execution_count": 0,
      "outputs": []
    },
    {
      "cell_type": "code",
      "metadata": {
        "id": "auZNXlphJBAU",
        "colab_type": "code",
        "outputId": "f9573a3c-b2b4-4c25-d0cd-31fbb883e689",
        "colab": {
          "base_uri": "https://localhost:8080/",
          "height": 740
        }
      },
      "source": [
        "fig = plt.figure(figsize = (12,12))\n",
        "ax = fig.add_subplot(1,1,1) \n",
        "ax.set_xlabel('0', fontsize = 15)\n",
        "ax.set_ylabel('1', fontsize = 15)\n",
        "ax.set_title('2 component PCA', fontsize = 20)\n",
        "targets = [1, 2, 3]\n",
        "colors = ['r', 'b', 'y']\n",
        "for target, color in zip(targets,colors):\n",
        "    indicesToKeep = finalDf['SEVERITY'] == target\n",
        "    ax.scatter(finalDf.loc[indicesToKeep, 0]\n",
        "               , finalDf.loc[indicesToKeep, 1]\n",
        "               , c = color\n",
        "               , s = 5)\n",
        "ax.legend(targets)\n",
        "ax.grid()"
      ],
      "execution_count": 0,
      "outputs": [
        {
          "output_type": "display_data",
          "data": {
            "image/png": "[encoded data removed]",
            "text/plain": [
              "<Figure size 864x864 with 1 Axes>"
            ]
          },
          "metadata": {
            "tags": [],
            "needs_background": "light"
          }
        }
      ]
    },
    {
      "cell_type": "code",
      "metadata": {
        "id": "1SMcc-7uPg8q",
        "colab_type": "code",
        "outputId": "29e67099-9bee-4445-c0d2-299c2bd72f30",
        "colab": {
          "base_uri": "https://localhost:8080/",
          "height": 347
        }
      },
      "source": [
        "fig = plt.figure(figsize = (18,6))\n",
        "features = range(pca.n_components_)\n",
        "plt.bar(features, pca.explained_variance_ratio_, color='green')\n",
        "plt.xlabel('PCA features')\n",
        "plt.ylabel('variance %')\n",
        "plt.xticks(features)\n",
        "# Save components to a DataFrame\n",
        "PCA_components = pd.DataFrame(principalComponents)"
      ],
      "execution_count": 0,
      "outputs": [
        {
          "output_type": "display_data",
          "data": {
            "image/png": "[encoded data removed]",
            "text/plain": [
              "<Figure size 1296x432 with 1 Axes>"
            ]
          },
          "metadata": {
            "tags": [],
            "needs_background": "light"
          }
        }
      ]
    },
    {
      "cell_type": "code",
      "metadata": {
        "id": "dWuu8aQ2Qvcv",
        "colab_type": "code",
        "colab": {}
      },
      "source": [
        "pca.explained_variance_ratio_.cumsum()"
      ],
      "execution_count": 0,
      "outputs": []
    },
    {
      "cell_type": "code",
      "metadata": {
        "id": "HByB_UnFeq6l",
        "colab_type": "code",
        "colab": {}
      },
      "source": [
        "loadings = pd.DataFrame(pca.components_.T * np.sqrt(pca.explained_variance_), index=concatdf_mod.columns)\n",
        "loadings"
      ],
      "execution_count": 0,
      "outputs": []
    },
    {
      "cell_type": "code",
      "metadata": {
        "id": "ZODvGsixeuL1",
        "colab_type": "code",
        "colab": {}
      },
      "source": [
        "def square_sum(cols):\n",
        "  output = 0.0\n",
        "  for col in cols:\n",
        "    output += col * col\n",
        "  return np.sqrt(output)\n",
        "\n",
        "loadings = pd.DataFrame(pca.components_.T * np.sqrt(pca.explained_variance_), index=concatdf_mod.columns)\n",
        "loadings['significance'] = loadings.apply(square_sum, axis=1)\n",
        "loadings.sort_values(by='significance', ascending=False)"
      ],
      "execution_count": 0,
      "outputs": []
    },
    {
      "cell_type": "markdown",
      "metadata": {
        "id": "2MFUKoL0VMbF",
        "colab_type": "text"
      },
      "source": [
        "## Using SFS - County Level"
      ]
    },
    {
      "cell_type": "code",
      "metadata": {
        "id": "xxGrqvm_WHSz",
        "colab_type": "code",
        "colab": {}
      },
      "source": [
        "# from sklearn.preprocessing import StandardScaler\n",
        "fx = ['COUNTY','STATE','FATALS', 'LOCATION', 'SEVERITY', 'ARR_HOUR', 'ARR_MIN','A_CRAINJ', 'SCH_BUS', 'CF1', 'CF2', 'CF3', 'CITY']\n",
        "features = list(concatdf.columns)\n",
        "\n",
        "for f in fx:\n",
        "  features.remove(f)\n",
        "\n",
        "x = lacounty.loc[:, features]\n",
        "# # Separating out the target\n",
        "y = lacounty.loc[:,['SEVERITY']]"
      ],
      "execution_count": 0,
      "outputs": []
    },
    {
      "cell_type": "code",
      "metadata": {
        "id": "ToWvatWzWr8z",
        "colab_type": "code",
        "colab": {}
      },
      "source": [
        "from mlxtend.feature_selection import SequentialFeatureSelector as SFS\n",
        "from sklearn.neighbors import KNeighborsClassifier\n",
        "from sklearn.preprocessing import LabelEncoder\n",
        "from sklearn.metrics import accuracy_score\n",
        "from sklearn.model_selection import cross_val_score"
      ],
      "execution_count": 0,
      "outputs": []
    },
    {
      "cell_type": "code",
      "metadata": {
        "id": "qYjgm9xAW5dW",
        "colab_type": "code",
        "colab": {}
      },
      "source": [
        "knn = KNeighborsClassifier(n_neighbors=5)"
      ],
      "execution_count": 0,
      "outputs": []
    },
    {
      "cell_type": "code",
      "metadata": {
        "id": "pwv7BbEBW88M",
        "colab_type": "code",
        "colab": {}
      },
      "source": [
        "sfs1 = SFS(knn, \n",
        "           k_features=15, \n",
        "           forward=True,\n",
        "           floating=True, \n",
        "           verbose=2,\n",
        "           scoring='accuracy',\n",
        "           cv=5)"
      ],
      "execution_count": 0,
      "outputs": []
    },
    {
      "cell_type": "code",
      "metadata": {
        "id": "d4DKOSFsXKea",
        "colab_type": "code",
        "colab": {}
      },
      "source": [
        "sfs1 = sfs1.fit(x.values, y.values)\n",
        "sfs1.subsets_"
      ],
      "execution_count": 0,
      "outputs": []
    },
    {
      "cell_type": "markdown",
      "metadata": {
        "id": "uPPCflnyrTrD",
        "colab_type": "text"
      },
      "source": [
        "## Add Response Time (Emergency Medical Service)"
      ]
    },
    {
      "cell_type": "code",
      "metadata": {
        "id": "Tm_jWpKrsqMb",
        "colab_type": "code",
        "colab": {}
      },
      "source": [
        "import pandas as pd\n",
        "import datetime as dt\n",
        "overalldf = pd.read_csv('/content/drive/My Drive/Big-Data/Project/FARS/Processed/cleaning_in_progress.csv', index_col=0)"
      ],
      "execution_count": 0,
      "outputs": []
    },
    {
      "cell_type": "code",
      "metadata": {
        "id": "sNESld9xot9S",
        "colab_type": "code",
        "colab": {}
      },
      "source": [
        "def responseTime(ah, am, acch, accm):\n",
        "  try:\n",
        "    ah = int(ah)\n",
        "    am = int(am)\n",
        "    acch = int(acch)\n",
        "    accm = int(accm)\n",
        "  except:\n",
        "    return\n",
        "\n",
        "  if (ah >= 24) or (acch >= 24) or (am > 59) or (accm > 59):\n",
        "    return\n",
        "  \n",
        "  today = dt.date.today()\n",
        "  tmrw = dt.date.today() + dt.timedelta(days=1)\n",
        "  d1 = dt.datetime(today.year, today.month, today.day, acch, accm)\n",
        "  d2 = dt.datetime(today.year, today.month, today.day, ah, am)\n",
        "  if ah < acch:\n",
        "    d2 = dt.datetime(tmrw.year, tmrw.month, tmrw.day, ah, am)\n",
        "  return (d2.timestamp() - d1.timestamp())/60"
      ],
      "execution_count": 0,
      "outputs": []
    },
    {
      "cell_type": "code",
      "metadata": {
        "id": "nFwbBEIQuh7H",
        "colab_type": "code",
        "colab": {}
      },
      "source": [
        "overalldf['responseTime'] = overalldf\\\n",
        ".apply(lambda x:responseTime(x['ARR_HOUR'],x['ARR_MIN'],x['HOUR'],x['MINUTE']), axis=1)"
      ],
      "execution_count": 0,
      "outputs": []
    },
    {
      "cell_type": "code",
      "metadata": {
        "id": "i9Hlegu0zOmT",
        "colab_type": "code",
        "colab": {}
      },
      "source": [
        "overalldf['responseTime'] = overalldf.apply(lambda x: abs(x['responseTime']) if x['responseTime'] < 0 else x['responseTime'],axis=1)"
      ],
      "execution_count": 0,
      "outputs": []
    },
    {
      "cell_type": "code",
      "metadata": {
        "id": "r5pCE3qy0rh2",
        "colab_type": "code",
        "colab": {}
      },
      "source": [
        "overalldf.to_csv('/content/drive/My Drive/Big-Data/Project/FARS/Processed/cleaning_in_progress.csv')"
      ],
      "execution_count": 0,
      "outputs": []
    }
  ]
}